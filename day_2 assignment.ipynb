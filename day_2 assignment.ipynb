{
  "nbformat": 4,
  "nbformat_minor": 0,
  "metadata": {
    "colab": {
      "provenance": [],
      "authorship_tag": "ABX9TyNYfGh1j+z8Qc9N+N5YNpmZ",
      "include_colab_link": true
    },
    "kernelspec": {
      "name": "python3",
      "display_name": "Python 3"
    },
    "language_info": {
      "name": "python"
    }
  },
  "cells": [
    {
      "cell_type": "markdown",
      "metadata": {
        "id": "view-in-github",
        "colab_type": "text"
      },
      "source": [
        "<a href=\"https://colab.research.google.com/github/YASHMITHA-28/Daily-assignment/blob/main/day_2%20assignment.ipynb\" target=\"_parent\"><img src=\"https://colab.research.google.com/assets/colab-badge.svg\" alt=\"Open In Colab\"/></a>"
      ]
    },
    {
      "cell_type": "code",
      "source": [
        "import numpy as np\n",
        "\n",
        "# Function to perform matrix multiplication\n",
        "def matrix_multiply(A, B):\n",
        "    return np.dot(A, B)\n",
        "\n",
        "# Example matrices\n",
        "A = np.array([[1, 2],\n",
        "              [3, 3]])\n",
        "B = np.array([[2, 5],\n",
        "              [7, 5]])\n",
        "\n",
        "# Perform multiplication\n",
        "result = matrix_multiply(A, B)\n",
        "print(\"Matrix A:\\n\", A)\n",
        "print(\"Matrix B:\\n\", B)\n",
        "print(\"Matrix Multiplication Result:\\n\", result)"
      ],
      "metadata": {
        "colab": {
          "base_uri": "https://localhost:8080/"
        },
        "id": "ShKAVn4E2LmE",
        "outputId": "551e8e0e-dcdd-4a4f-e74d-94a6bd52b419"
      },
      "execution_count": 6,
      "outputs": [
        {
          "output_type": "stream",
          "name": "stdout",
          "text": [
            "Matrix A:\n",
            " [[1 2]\n",
            " [3 3]]\n",
            "Matrix B:\n",
            " [[2 5]\n",
            " [7 5]]\n",
            "Matrix Multiplication Result:\n",
            " [[16 15]\n",
            " [27 30]]\n"
          ]
        }
      ]
    },
    {
      "cell_type": "code",
      "source": [
        "data = [5, 10, 15, 20, 25]\n",
        "\n",
        "\n",
        "def min_max_scale(data):\n",
        "    min_val = min(data)\n",
        "    max_val = max(data)\n",
        "    return [(x - min_val) / (max_val - min_val) for x in data]\n",
        "\n",
        "scaled_data = min_max_scale(data)\n",
        "print(\"Original Data:\", data)\n",
        "print(\"Min-Max Scaled Data:\", scaled_data)\n"
      ],
      "metadata": {
        "colab": {
          "base_uri": "https://localhost:8080/"
        },
        "id": "56P6UtNL2L63",
        "outputId": "0cc67358-2b22-4c83-e48e-9f96bf21cfbd"
      },
      "execution_count": 7,
      "outputs": [
        {
          "output_type": "stream",
          "name": "stdout",
          "text": [
            "Original Data: [5, 10, 15, 20, 25]\n",
            "Min-Max Scaled Data: [0.0, 0.25, 0.5, 0.75, 1.0]\n"
          ]
        }
      ]
    },
    {
      "cell_type": "code",
      "source": [
        "def standardize(data):\n",
        "    mean = sum(data) / len(data)\n",
        "    std = (sum([(x - mean) ** 2 for x in data]) / len(data)) ** 0.5\n",
        "    return [(x - mean) / std for x in data]\n",
        "\n",
        "standardized_data = standardize(data)\n",
        "print(\"Standardized Data:\", standardized_data)\n",
        ""
      ],
      "metadata": {
        "colab": {
          "base_uri": "https://localhost:8080/"
        },
        "id": "srRWT0FO2ywA",
        "outputId": "ed0eeab8-c01d-4205-bc8f-e123cf77c925"
      },
      "execution_count": 9,
      "outputs": [
        {
          "output_type": "stream",
          "name": "stdout",
          "text": [
            "Standardized Data: [-1.414213562373095, -0.7071067811865475, 0.0, 0.7071067811865475, 1.414213562373095]\n"
          ]
        }
      ]
    }
  ]
}